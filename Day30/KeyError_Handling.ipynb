{
 "cells": [
  {
   "cell_type": "code",
   "execution_count": 55,
   "id": "010ae500",
   "metadata": {},
   "outputs": [
    {
     "name": "stdout",
     "output_type": "stream",
     "text": [
      "phrase:\n",
      "ff\n",
      "['Foxtrot', 'Foxtrot']\n"
     ]
    }
   ],
   "source": [
    "import pandas\n",
    "# reading csv\n",
    "data = pandas.read_csv(\"nato_phonetic_alphabet.csv\")\n",
    "# creating dataframe\n",
    "df = pandas.DataFrame(data)\n",
    "# creating a dictionary from dataframe\n",
    "phonetic_dict= {row.letter: row.code  for (index, row)  in df.iterrows()}\n",
    "# the nato phonetic list\n",
    "user_words=input(\"phrase:\\n\").upper()\n",
    "phonetic_dict = [phonetic_dict[letters] for letters in user_words]\n",
    "print(phonetic_dict)"
   ]
  },
  {
   "cell_type": "code",
   "execution_count": 52,
   "id": "619fe787",
   "metadata": {},
   "outputs": [
    {
     "data": {
      "text/plain": [
       "{'A': 'Alfa',\n",
       " 'B': 'Bravo',\n",
       " 'C': 'Charlie',\n",
       " 'D': 'Delta',\n",
       " 'E': 'Echo',\n",
       " 'F': 'Foxtrot',\n",
       " 'G': 'Golf',\n",
       " 'H': 'Hotel',\n",
       " 'I': 'India',\n",
       " 'J': 'Juliet',\n",
       " 'K': 'Kilo',\n",
       " 'L': 'Lima',\n",
       " 'M': 'Mike',\n",
       " 'N': 'November',\n",
       " 'O': 'Oscar',\n",
       " 'P': 'Papa',\n",
       " 'Q': 'Quebec',\n",
       " 'R': 'Romeo',\n",
       " 'S': 'Sierra',\n",
       " 'T': 'Tango',\n",
       " 'U': 'Uniform',\n",
       " 'V': 'Victor',\n",
       " 'W': 'Whiskey',\n",
       " 'X': 'X-ray',\n",
       " 'Y': 'Yankee',\n",
       " 'Z': 'Zulu'}"
      ]
     },
     "execution_count": 52,
     "metadata": {},
     "output_type": "execute_result"
    }
   ],
   "source": []
  }
 ],
 "metadata": {
  "kernelspec": {
   "display_name": "Python 3 (ipykernel)",
   "language": "python",
   "name": "python3"
  },
  "language_info": {
   "codemirror_mode": {
    "name": "ipython",
    "version": 3
   },
   "file_extension": ".py",
   "mimetype": "text/x-python",
   "name": "python",
   "nbconvert_exporter": "python",
   "pygments_lexer": "ipython3",
   "version": "3.9.12"
  }
 },
 "nbformat": 4,
 "nbformat_minor": 5
}
